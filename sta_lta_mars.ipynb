{
 "cells": [
  {
   "cell_type": "code",
   "id": "initial_id",
   "metadata": {
    "collapsed": true,
    "ExecuteTime": {
     "end_time": "2024-10-06T17:48:42.210329Z",
     "start_time": "2024-10-06T17:48:42.208037Z"
    }
   },
   "source": [
    "import os\n",
    "\n",
    "from datetime import datetime\n",
    "\n",
    "import obspy\n",
    "\n",
    "import numpy as np\n",
    "import pandas as pd\n",
    "import plotly.graph_objects as go\n",
    "\n",
    "from datetime import timedelta\n",
    "from sklearn.metrics import mean_squared_error\n",
    "from sklearn.model_selection import KFold\n",
    "from obspy.signal.trigger import classic_sta_lta, trigger_onset"
   ],
   "outputs": [],
   "execution_count": 53
  },
  {
   "metadata": {
    "ExecuteTime": {
     "end_time": "2024-10-06T17:48:42.490678Z",
     "start_time": "2024-10-06T17:48:42.486780Z"
    }
   },
   "cell_type": "code",
   "source": [
    "data_directory = './data/mars/training/data/'\n",
    "cat_directory = './data/mars/training/catalogs/'\n",
    "categories_file = cat_directory + 'Mars_InSight_training_catalog_final.csv'\n",
    "categories_df = pd.read_csv(categories_file)\n",
    "categories_df"
   ],
   "id": "b597afd5e6c896a3",
   "outputs": [
    {
     "data": {
      "text/plain": [
       "                                      filename time_abs(%Y-%m-%dT%H:%M:%S.%f)  \\\n",
       "0  XB.ELYSE.02.BHV.2022-02-03HR08_evid0005.csv     2022-02-03T08:08:27.000000   \n",
       "1  XB.ELYSE.02.BHV.2022-01-02HR04_evid0006.csv     2022-01-02T04:35:30.000000   \n",
       "\n",
       "   time_rel(sec)      evid  \n",
       "0          507.0  evid0005  \n",
       "1         2130.0  evid0006  "
      ],
      "text/html": [
       "<div>\n",
       "<style scoped>\n",
       "    .dataframe tbody tr th:only-of-type {\n",
       "        vertical-align: middle;\n",
       "    }\n",
       "\n",
       "    .dataframe tbody tr th {\n",
       "        vertical-align: top;\n",
       "    }\n",
       "\n",
       "    .dataframe thead th {\n",
       "        text-align: right;\n",
       "    }\n",
       "</style>\n",
       "<table border=\"1\" class=\"dataframe\">\n",
       "  <thead>\n",
       "    <tr style=\"text-align: right;\">\n",
       "      <th></th>\n",
       "      <th>filename</th>\n",
       "      <th>time_abs(%Y-%m-%dT%H:%M:%S.%f)</th>\n",
       "      <th>time_rel(sec)</th>\n",
       "      <th>evid</th>\n",
       "    </tr>\n",
       "  </thead>\n",
       "  <tbody>\n",
       "    <tr>\n",
       "      <th>0</th>\n",
       "      <td>XB.ELYSE.02.BHV.2022-02-03HR08_evid0005.csv</td>\n",
       "      <td>2022-02-03T08:08:27.000000</td>\n",
       "      <td>507.0</td>\n",
       "      <td>evid0005</td>\n",
       "    </tr>\n",
       "    <tr>\n",
       "      <th>1</th>\n",
       "      <td>XB.ELYSE.02.BHV.2022-01-02HR04_evid0006.csv</td>\n",
       "      <td>2022-01-02T04:35:30.000000</td>\n",
       "      <td>2130.0</td>\n",
       "      <td>evid0006</td>\n",
       "    </tr>\n",
       "  </tbody>\n",
       "</table>\n",
       "</div>"
      ]
     },
     "execution_count": 54,
     "metadata": {},
     "output_type": "execute_result"
    }
   ],
   "execution_count": 54
  },
  {
   "metadata": {
    "ExecuteTime": {
     "end_time": "2024-10-06T17:49:46.702383Z",
     "start_time": "2024-10-06T17:49:46.699968Z"
    }
   },
   "cell_type": "code",
   "source": [
    "def model(row, lta: int = 50, sta: int = 5):\n",
    "    test_filename = row.filename\n",
    "    tr = obspy.read(f'{data_directory}{test_filename.replace(\".csv\", \"\")}.mseed')[0]\n",
    "    tr_data = tr.data\n",
    "\n",
    "    lta_len = (tr_data.shape[0] / tr.stats.sampling_rate) / lta\n",
    "    sta_len = lta_len / sta\n",
    "    \n",
    "    cft = classic_sta_lta(tr_data, int(sta_len * tr.stats.sampling_rate), int(lta_len * tr.stats.sampling_rate))\n",
    "    thr_on = np.quantile(cft, 0.999)\n",
    "    thr_off = np.quantile(cft, 0.01)\n",
    "    on_off = np.array(trigger_onset(cft, thr_on, thr_off))\n",
    "    \n",
    "    return on_off[0][0] - lta"
   ],
   "id": "a0137c41a3d31aa4",
   "outputs": [],
   "execution_count": 65
  },
  {
   "metadata": {
    "ExecuteTime": {
     "end_time": "2024-10-06T17:49:46.932127Z",
     "start_time": "2024-10-06T17:49:46.929543Z"
    }
   },
   "cell_type": "code",
   "source": [
    "def inference(fold_cat, lta: int = 50, sta: int = 5):\n",
    "    fnames = []\n",
    "    detection_times = []\n",
    "    relative_times = []\n",
    "\n",
    "    for index in range(len(fold_cat)):\n",
    "        test_filename = fold_cat.iloc[index].filename\n",
    "        tr = obspy.read(f'{data_directory}{test_filename.replace(\".csv\", \"\")}.mseed')[0]\n",
    "        starttime = tr.stats.starttime.datetime\n",
    "        tr_data = tr.data\n",
    "        tr_times = tr.times()\n",
    "\n",
    "        trigger = int(model(fold_cat.iloc[index], lta, sta))\n",
    "        true = int(fold_cat.iloc[index][\"time_rel(sec)\"] * tr.stats.sampling_rate)\n",
    "\n",
    "        on_time = starttime + timedelta(seconds=tr_times[trigger])\n",
    "        fnames.append(test_filename)\n",
    "        detection_times.append(on_time)\n",
    "        relative_times.append(trigger / tr.stats.sampling_rate)\n",
    "\n",
    "    detect_df = pd.DataFrame(data={\n",
    "        'filename': fnames, \n",
    "        'time_abs(%Y-%m-%dT%H:%M:%S.%f)': detection_times, \n",
    "        'time_rel(sec)': relative_times\n",
    "    })\n",
    "\n",
    "    return detect_df"
   ],
   "id": "c04bc9bdb9767ff1",
   "outputs": [],
   "execution_count": 66
  },
  {
   "metadata": {
    "ExecuteTime": {
     "end_time": "2024-10-06T17:49:47.131556Z",
     "start_time": "2024-10-06T17:49:47.129616Z"
    }
   },
   "cell_type": "code",
   "source": [
    "# def kfold_cross_validation(k=2, lta_range=range(10, 200, 5), sta_range=range(5, 50, 1)):\n",
    "#     kf = KFold(n_splits=k, shuffle=True, random_state=42)\n",
    "#     best_rmse = float('inf')\n",
    "#     best_lta, best_sta = None, None\n",
    "# \n",
    "#     # Split the catalog data into k folds\n",
    "#     for lta in lta_range:\n",
    "#         for sta in sta_range:\n",
    "#             rmse_folds = []\n",
    "# \n",
    "#             # Cross-validation loop\n",
    "#             for train_idx, test_idx in kf.split(categories_df):\n",
    "#                 train_cat = categories_df.iloc[train_idx]\n",
    "#                 test_cat = categories_df.iloc[test_idx]\n",
    "# \n",
    "#                 detect_df = inference(test_cat, lta, sta)\n",
    "# \n",
    "#                 mse = mean_squared_error(detect_df['time_rel(sec)'], test_cat['time_rel(sec)'])\n",
    "#                 rmse = np.sqrt(mse)\n",
    "#                 rmse_folds.append(rmse)\n",
    "# \n",
    "#             # Average RMSE across folds\n",
    "#             avg_rmse = np.mean(rmse_folds)\n",
    "# \n",
    "#             if avg_rmse < best_rmse:\n",
    "#                 best_rmse = avg_rmse\n",
    "#                 best_lta = lta\n",
    "#                 best_sta = sta\n",
    "# \n",
    "#             print(f'LTA: {lta}, STA: {sta}, Avg RMSE: {avg_rmse}')\n",
    "# \n",
    "#     print(f'Best RMSE: {best_rmse}')\n",
    "#     print(f'Best LTA: {best_lta}')\n",
    "#     print(f'Best STA: {best_sta}')\n",
    "# \n",
    "# # Perform the k-fold cross-validation\n",
    "# kfold_cross_validation()\n",
    "# \n",
    "# #LTA: 15, STA: 5, Avg RMSE: 44.19999999999996"
   ],
   "id": "600569f35326f926",
   "outputs": [],
   "execution_count": 67
  },
  {
   "metadata": {
    "ExecuteTime": {
     "end_time": "2024-10-06T17:49:47.599979Z",
     "start_time": "2024-10-06T17:49:47.596168Z"
    }
   },
   "cell_type": "code",
   "source": [
    "def inference(lta: int = 50, sta: int = 5, save_folder = './results', save_images=True):\n",
    "    os.makedirs(save_folder, exist_ok=True)\n",
    "    os.makedirs(f'{save_folder}/plots', exist_ok=True)\n",
    "\n",
    "    fnames = []\n",
    "    detection_times = []\n",
    "    relative_times = []\n",
    "\n",
    "    for index in range(len(categories_df)):\n",
    "        test_filename = categories_df.iloc[index].filename\n",
    "        tr = obspy.read(f'{data_directory}{test_filename.replace(\".csv\", \"\")}.mseed')[0]\n",
    "        starttime = tr.stats.starttime.datetime\n",
    "        tr_data = tr.data\n",
    "        tr_times = tr.times()\n",
    "\n",
    "        trigger = int(model(categories_df.iloc[index], lta, sta))\n",
    "        true = int(categories_df.iloc[index][\"time_rel(sec)\"] * tr.stats.sampling_rate)\n",
    "\n",
    "        on_time = starttime + timedelta(seconds = tr_times[trigger])\n",
    "        on_time_str = datetime.strftime(on_time,'%Y-%m-%dT%H:%M:%S.%f')\n",
    "        fnames.append(test_filename)\n",
    "        detection_times.append(on_time_str)\n",
    "        relative_times.append(trigger / tr.stats.sampling_rate)\n",
    "\n",
    "        if save_images:\n",
    "            fig = go.Figure()\n",
    "            fig.add_trace(go.Scatter(\n",
    "                x=tr_times, y=tr_data, mode='lines', name='Seismogram'\n",
    "            ))\n",
    "            fig.add_vline(x=tr_times[trigger], line=dict(color='red'), annotation_text=\"Trig. On\", annotation_position=\"top left\")\n",
    "            fig.add_vline(x=tr_times[true], line=dict(color='blue'), annotation_text=\"True\", annotation_position=\"top left\")\n",
    "\n",
    "            # Customize the layout\n",
    "            fig.update_layout(\n",
    "                title=\"Seismogram with STA/LTA Triggers\",\n",
    "                xaxis_title=\"Time (s)\",\n",
    "                yaxis_title=\"Amplitude\",\n",
    "                xaxis_range=[min(tr_times), max(tr_times)],\n",
    "                height=400,\n",
    "                width=900\n",
    "            )\n",
    "            fig.write_image(os.path.join(f'{save_folder}/plots/{test_filename}.png'))\n",
    "\n",
    "    detect_df = pd.DataFrame(data = {\n",
    "        'filename':fnames,\n",
    "        'time_abs(%Y-%m-%dT%H:%M:%S.%f)': detection_times,\n",
    "        'time_rel(sec)': relative_times,\n",
    "    })\n",
    "    detect_df['evid'] = categories_df['evid']\n",
    "    \n",
    "    detect_df = detect_df.sort_values(\n",
    "        by='evid',\n",
    "        key=lambda x: x.str.extract('(\\d+)$').iloc[:, 0].astype(int)\n",
    "    )\n",
    "    detect_df.to_csv(f'{save_folder}/catalog.csv', index=False)"
   ],
   "id": "6fe58313af28bf99",
   "outputs": [],
   "execution_count": 68
  },
  {
   "metadata": {
    "ExecuteTime": {
     "end_time": "2024-10-06T17:49:48.584031Z",
     "start_time": "2024-10-06T17:49:48.139596Z"
    }
   },
   "cell_type": "code",
   "source": [
    "lta = 15\n",
    "sta = 5\n",
    "inference(lta, sta, save_folder=f'./data/mars/lta{lta}_sta{sta}', save_images=True)\n",
    "df = pd.read_csv(f'./data/mars/lta{lta}_sta{sta}/catalog.csv')\n",
    "mse = mean_squared_error(df['time_rel(sec)'], categories_df['time_rel(sec)'])\n",
    "rmse = np.sqrt(mse)\n",
    "print(f'RMSE: {rmse}')\n",
    "print(f\"{rmse / categories_df['time_rel(sec)'].mean() * 100}%\")"
   ],
   "id": "743a541822fb19eb",
   "outputs": [
    {
     "name": "stdout",
     "output_type": "stream",
     "text": [
      "RMSE: 44.55965103094947\n",
      "3.37957156093663%\n"
     ]
    }
   ],
   "execution_count": 69
  }
 ],
 "metadata": {
  "kernelspec": {
   "display_name": "Python 3",
   "language": "python",
   "name": "python3"
  },
  "language_info": {
   "codemirror_mode": {
    "name": "ipython",
    "version": 2
   },
   "file_extension": ".py",
   "mimetype": "text/x-python",
   "name": "python",
   "nbconvert_exporter": "python",
   "pygments_lexer": "ipython2",
   "version": "2.7.6"
  }
 },
 "nbformat": 4,
 "nbformat_minor": 5
}
